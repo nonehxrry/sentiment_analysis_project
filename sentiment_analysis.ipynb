# -*- coding: utf-8 -*-
import pandas as pd
import numpy as np
import re
from nltk.corpus import stopwords
from nltk.stem import WordNetLemmatizer
from nltk.tokenize import word_tokenize
from sklearn.model_selection import train_test_split
from sklearn.feature_extraction.text import TfidfVectorizer
from sklearn.naive_bayes import MultinomialNB
from sklearn.metrics import accuracy_score, classification_report, confusion_matrix
import matplotlib.pyplot as plt
import seaborn as sns
import nltk
import kagglehub
import os

nltk.download('punkt')
nltk.download('stopwords')
nltk.download('wordnet')
nltk.download('averaged_perceptron_tagger')

path = kagglehub.dataset_download("lakshmi25npathi/imdb-dataset-of-50k-movie-reviews")
csv_file_path = os.path.join(path, 'IMDB Dataset.csv')
df = pd.read_csv(csv_file_path)

lemmatizer = WordNetLemmatizer()
stop_words = set(stopwords.words('english'))

def preprocess_text(text):
    text = text.lower()
    text = re.sub(r'<br />', ' ', text)
    text = re.sub(r'[^a-zA-Z\s]', '', text)
    tokens = word_tokenize(text)
    tokens = [word for word in tokens if word not in stop_words]
    tokens = [lemmatizer.lemmatize(word) for word in tokens]
    return ' '.join(tokens)

df['cleaned_review'] = df['review'].apply(preprocess_text)

X = df['cleaned_review']
y = df['sentiment']
y = y.map({'negative': 0, 'positive': 1})

X_train, X_test, y_train, y_test = train_test_split(X, y, test_size=0.2, random_state=42, stratify=y)

tfidf_vectorizer = TfidfVectorizer(max_features=10000)
X_train_tfidf = tfidf_vectorizer.fit_transform(X_train)
X_test_tfidf = tfidf_vectorizer.transform(X_test)

mnb_model = MultinomialNB()
mnb_model.fit(X_train_tfidf, y_train)

y_pred = mnb_model.predict(X_test_tfidf)

accuracy = accuracy_score(y_test, y_pred)
report = classification_report(y_test, y_pred, target_names=['negative', 'positive'])
conf_mat = confusion_matrix(y_test, y_pred, labels=[0, 1])

plt.figure(figsize=(8, 6))
sns.heatmap(conf_mat, annot=True, fmt='d', cmap='Blues',
            xticklabels=['Negative', 'Positive'],
            yticklabels=['Negative', 'Positive'])
plt.xlabel('Predicted Label')
plt.ylabel('True Label')
plt.title('Confusion Matrix for Movie Review Sentiment Analysis')
plt.show()

def predict_sentiment(text, model, vectorizer):
    cleaned_text = preprocess_text(text)
    vectorized_text = vectorizer.transform([cleaned_text])
    prediction_numeric = model.predict(vectorized_text)
    return 'positive' if prediction_numeric[0] == 1 else 'negative'

new_reviews = [
    "This movie was an absolute masterpiece! The acting, direction, and story were flawless.",
    "Utterly boring and a complete waste of time. I fell asleep halfway through.",
    "The plot had some interesting ideas, but the execution was quite weak.",
    "A truly heartwarming film that left me feeling inspired and uplifted.",
    "I hated every single minute of this. The worst movie I've seen all year."
]

for review in new_reviews:
    sentiment = predict_sentiment(review, mnb_model, tfidf_vectorizer)
    print(f"Review: '{review}' -> Predicted Sentiment: {sentiment}")
